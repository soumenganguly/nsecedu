{
 "metadata": {
  "name": ""
 },
 "nbformat": 3,
 "nbformat_minor": 0,
 "worksheets": [
  {
   "cells": [
    {
     "cell_type": "code",
     "collapsed": false,
     "input": [
      "import nltk\n",
      "#Load the file\n",
      "nltk.data.path.append('/home/soumen/Documents/wordnet/nltk_data')\n",
      "print nltk.data.path"
     ],
     "language": "python",
     "metadata": {},
     "outputs": [
      {
       "output_type": "stream",
       "stream": "stdout",
       "text": [
        "['/home/soumen/nltk_data', '/usr/share/nltk_data', '/usr/local/share/nltk_data', '/usr/lib/nltk_data', '/usr/local/lib/nltk_data', '/home/soumen/Documents/wordnet/nltk_data']\n"
       ]
      }
     ],
     "prompt_number": 1
    },
    {
     "cell_type": "code",
     "collapsed": false,
     "input": [
      "#Load the corpus\n",
      "v=nltk.data.load('corpora/Banglawn/totalmerged.syns',format='raw')\n"
     ],
     "language": "python",
     "metadata": {},
     "outputs": [],
     "prompt_number": 2
    },
    {
     "cell_type": "code",
     "collapsed": false,
     "input": [
      "from nltk.corpus.reader import WordListCorpusReader\n",
      "w=WordListCorpusReader('/home/soumen/Documents/wordnet/nltk_data/corpora/Banglawn',['totalmerged.syns'])\n",
      "c=w.words()"
     ],
     "language": "python",
     "metadata": {},
     "outputs": [],
     "prompt_number": 3
    },
    {
     "cell_type": "code",
     "collapsed": false,
     "input": [
      "#Number of words in the corpus\n",
      "words=len(c)/5\n",
      "print words"
     ],
     "language": "python",
     "metadata": {},
     "outputs": [
      {
       "output_type": "stream",
       "stream": "stdout",
       "text": [
        "29882\n"
       ]
      }
     ],
     "prompt_number": 4
    },
    {
     "cell_type": "code",
     "collapsed": false,
     "input": [
      "#Number of nouns\n",
      "import re\n",
      "noun=0\n",
      "patt='^CAT(\\D)+(NOUN)$'\n",
      "re.compile(patt)\n",
      "for i in range(len(c)):\n",
      "    if re.search(patt,c[i]):\n",
      "        noun=noun+1\n",
      "print noun\n",
      "\n",
      "#Similarly other parts of speech tagged words can be found out."
     ],
     "language": "python",
     "metadata": {},
     "outputs": [
      {
       "output_type": "stream",
       "stream": "stdout",
       "text": [
        "20848\n"
       ]
      }
     ],
     "prompt_number": 5
    },
    {
     "cell_type": "code",
     "collapsed": false,
     "input": [
      "#Filtering the blank spaces\n",
      "li=[]\n",
      "for i in range(len(c)):\n",
      "    s=re.sub(r'(\\t)*(\\b)*','',c[i])\n",
      "    li.append(s)\n",
      "for j in range(10):\n",
      "    print li[j]\n"
     ],
     "language": "python",
     "metadata": {},
     "outputs": [
      {
       "output_type": "stream",
       "stream": "stdout",
       "text": [
        "ID:: 1\n",
        "CAT:: ADJECTIVE\n",
        "CONCEPT:: \u09af\u09c7 \u099c\u09a8\u09cd\u09ae\u0997\u09cd\u09b0\u09b9\u09a3 \u0995\u09b0\u09c7\u09a8\u09bf\n",
        "EXAMPLE:: \"\u09b8\u09c7 \u0985\u099c\u09be\u09a4\"\n",
        "SYNSET-BENGALI:: \u0985\u099c\u09be\u09a4, \u0985\u09a8\u09c1\u09a4\u09cd\u09aa\u09a8\u09cd\u09a8, \u0985\u09a8\u09c1\u09a6\u09cd\u09ad\u09c2\u09a4, \u0985\u099c, \u0985\u09a8\u09be\u0997\u09a4\n",
        "ID:: 30168\n",
        "CAT:: ADJECTIVE\n",
        "CONCEPT:: \u09af\u09c7 \u09a8\u09bf\u099c\u09c7 \u0989\u09a4\u09cd\u09aa\u09a8\u09cd\u09a8 \u09b9\u09df\u09c7\u099b\u09c7 \u09ac\u09be \u099c\u09a8\u09cd\u09ae\u0997\u09cd\u09b0\u09b9\u09a3 \u0995\u09b0\u09c7\u099b\u09c7\n",
        "EXAMPLE:: \"\u09ad\u0997\u09ac\u09be\u09a8 \u09b8\u09cd\u09ac\u09df\u09ae\u09cd\u09ad\u09c2\"\n",
        "SYNSET-BENGALI:: \u09b8\u09cd\u09ac\u09df\u09ae\u09cd\u09ad\u09c2, \u09b8\u09cd\u09ac\u09df\u09ae\u09cd\u09ad\u09c1\n"
       ]
      }
     ],
     "prompt_number": 6
    },
    {
     "cell_type": "code",
     "collapsed": false,
     "input": [
      "li=[]\n",
      "words=[]\n",
      "for i in range(len(c)):\n",
      "    s=re.sub(r'(\\t)*(\\b)*','',c[i])\n",
      "    li.append(s)\n",
      "for j in range(0,len(c),5):\n",
      "    temp=[]\n",
      "    temp.append(li[j])\n",
      "    temp.append(li[j+1])\n",
      "    temp.append(li[j+2])\n",
      "    temp.append(li[j+3])\n",
      "    temp.append(li[j+4])\n",
      "    n=tuple(temp)\n",
      "    words.append(n)\n",
      "for k in range(2):\n",
      "    print words[k][2]\n",
      "\n",
      "#Grouping individual words.\n",
      "    \n",
      "    "
     ],
     "language": "python",
     "metadata": {},
     "outputs": [
      {
       "output_type": "stream",
       "stream": "stdout",
       "text": [
        "CONCEPT:: \u09af\u09c7 \u099c\u09a8\u09cd\u09ae\u0997\u09cd\u09b0\u09b9\u09a3 \u0995\u09b0\u09c7\u09a8\u09bf\n",
        "CONCEPT:: \u09af\u09c7 \u09a8\u09bf\u099c\u09c7 \u0989\u09a4\u09cd\u09aa\u09a8\u09cd\u09a8 \u09b9\u09df\u09c7\u099b\u09c7 \u09ac\u09be \u099c\u09a8\u09cd\u09ae\u0997\u09cd\u09b0\u09b9\u09a3 \u0995\u09b0\u09c7\u099b\u09c7\n"
       ]
      }
     ],
     "prompt_number": 8
    },
    {
     "cell_type": "code",
     "collapsed": false,
     "input": [],
     "language": "python",
     "metadata": {},
     "outputs": []
    }
   ],
   "metadata": {}
  }
 ]
}